{
  "nbformat": 4,
  "nbformat_minor": 0,
  "metadata": {
    "colab": {
      "provenance": []
    },
    "kernelspec": {
      "name": "python3",
      "display_name": "Python 3"
    },
    "language_info": {
      "name": "python"
    }
  },
  "cells": [
    {
      "cell_type": "markdown",
      "source": [
        "###Criando um ReAct Agent do Zero (I) - JonasJunior"
      ],
      "metadata": {
        "id": "3KVM1X-Cod3T"
      }
    },
    {
      "cell_type": "code",
      "source": [
        "%pip install groq"
      ],
      "metadata": {
        "colab": {
          "base_uri": "https://localhost:8080/"
        },
        "id": "4JSbCIPhZazh",
        "outputId": "5d989524-efa8-4e98-d914-3d2e4abc3c50"
      },
      "execution_count": null,
      "outputs": [
        {
          "output_type": "stream",
          "name": "stdout",
          "text": [
            "Collecting groq\n",
            "  Downloading groq-0.19.0-py3-none-any.whl.metadata (15 kB)\n",
            "Requirement already satisfied: anyio<5,>=3.5.0 in /usr/local/lib/python3.11/dist-packages (from groq) (3.7.1)\n",
            "Requirement already satisfied: distro<2,>=1.7.0 in /usr/local/lib/python3.11/dist-packages (from groq) (1.9.0)\n",
            "Requirement already satisfied: httpx<1,>=0.23.0 in /usr/local/lib/python3.11/dist-packages (from groq) (0.28.1)\n",
            "Requirement already satisfied: pydantic<3,>=1.9.0 in /usr/local/lib/python3.11/dist-packages (from groq) (2.10.6)\n",
            "Requirement already satisfied: sniffio in /usr/local/lib/python3.11/dist-packages (from groq) (1.3.1)\n",
            "Requirement already satisfied: typing-extensions<5,>=4.10 in /usr/local/lib/python3.11/dist-packages (from groq) (4.12.2)\n",
            "Requirement already satisfied: idna>=2.8 in /usr/local/lib/python3.11/dist-packages (from anyio<5,>=3.5.0->groq) (3.10)\n",
            "Requirement already satisfied: certifi in /usr/local/lib/python3.11/dist-packages (from httpx<1,>=0.23.0->groq) (2025.1.31)\n",
            "Requirement already satisfied: httpcore==1.* in /usr/local/lib/python3.11/dist-packages (from httpx<1,>=0.23.0->groq) (1.0.7)\n",
            "Requirement already satisfied: h11<0.15,>=0.13 in /usr/local/lib/python3.11/dist-packages (from httpcore==1.*->httpx<1,>=0.23.0->groq) (0.14.0)\n",
            "Requirement already satisfied: annotated-types>=0.6.0 in /usr/local/lib/python3.11/dist-packages (from pydantic<3,>=1.9.0->groq) (0.7.0)\n",
            "Requirement already satisfied: pydantic-core==2.27.2 in /usr/local/lib/python3.11/dist-packages (from pydantic<3,>=1.9.0->groq) (2.27.2)\n",
            "Downloading groq-0.19.0-py3-none-any.whl (122 kB)\n",
            "\u001b[?25l   \u001b[90m━━━━━━━━━━━━━━━━━━━━━━━━━━━━━━━━━━━━━━━━\u001b[0m \u001b[32m0.0/122.2 kB\u001b[0m \u001b[31m?\u001b[0m eta \u001b[36m-:--:--\u001b[0m\r\u001b[2K   \u001b[91m━━━━━━━━━━━━━━━━━━━━━━━━━━━━━━━━━━━━\u001b[0m\u001b[91m╸\u001b[0m\u001b[90m━━━\u001b[0m \u001b[32m112.6/122.2 kB\u001b[0m \u001b[31m7.1 MB/s\u001b[0m eta \u001b[36m0:00:01\u001b[0m\r\u001b[2K   \u001b[90m━━━━━━━━━━━━━━━━━━━━━━━━━━━━━━━━━━━━━━━━\u001b[0m \u001b[32m122.2/122.2 kB\u001b[0m \u001b[31m2.6 MB/s\u001b[0m eta \u001b[36m0:00:00\u001b[0m\n",
            "\u001b[?25hInstalling collected packages: groq\n",
            "Successfully installed groq-0.19.0\n"
          ]
        }
      ]
    },
    {
      "cell_type": "code",
      "execution_count": null,
      "metadata": {
        "id": "0tTWSbhaZRVc"
      },
      "outputs": [],
      "source": [
        "# Configuração da chave de API da Groq\n",
        "import os\n",
        "os.environ['GROQ_API_KEY'] = \"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\""
      ]
    },
    {
      "cell_type": "markdown",
      "source": [
        "_________________________________________________________________________________________________"
      ],
      "metadata": {
        "id": "GLlTq85Fq5tP"
      }
    },
    {
      "cell_type": "code",
      "source": [
        "#Redefinição da classe 'Agent' para meu exemplo\n",
        "class Agent:\n",
        "    def __init__(self, client: Groq, system: str = \"\") -> None:\n",
        "        self.client = client\n",
        "        self.system = system\n",
        "        self.messages: list = []\n",
        "        if self.system:\n",
        "            self.messages.append({\"role\": \"system\", \"content\": system})\n",
        "\n",
        "    def __call__(self, message=\"\"):\n",
        "        if message:\n",
        "            self.messages.append({\"role\": \"user\", \"content\": message})\n",
        "        result = self.execute()\n",
        "        self.messages.append({\"role\": \"assistant\", \"content\": result})\n",
        "        return result\n",
        "\n",
        "    def execute(self):\n",
        "        completion = client.chat.completions.create(\n",
        "            model=\"llama-3.3-70b-versatile\", messages=self.messages\n",
        "        )\n",
        "        return completion.choices[0].message.content"
      ],
      "metadata": {
        "id": "RabaDefwi4lg"
      },
      "execution_count": null,
      "outputs": []
    },
    {
      "cell_type": "code",
      "source": [
        "#Definição de 'recommend_movie' e 'recommend_restaurant'.\n",
        "#'recommend_movie' Recomenda um filme com base no gênero.\n",
        "#'recommend_restaurant' Recomenda um restaurante com base na culinaria e localizacao.\n",
        "\n",
        "def recommend_movie(genre: str) -> str:\n",
        "    match genre.lower():\n",
        "        case \"ficção científica\":\n",
        "            return \"Interestelar\"\n",
        "        case \"ação\":\n",
        "            return \"John Wick\"\n",
        "        case \"drama\":\n",
        "            return \"Forrest Gump\"\n",
        "        case _:\n",
        "            return \"Gênero não reconhecido.\"\n",
        "\n",
        "def recommend_restaurant(cuisine: str, location: str) -> str:\n",
        "    if cuisine.lower() == \"italiano\" and location.lower() == \"são paulo\":\n",
        "        return \"Famiglia Mancini\"\n",
        "    elif cuisine.lower() == \"japonês\" and location.lower() == \"são paulo\":\n",
        "        return \"Kinoshita\"\n",
        "    else:\n",
        "        return \"Nenhum restaurante encontrado para os critérios fornecidos.\""
      ],
      "metadata": {
        "id": "nUAlevf8rC6e"
      },
      "execution_count": null,
      "outputs": []
    },
    {
      "cell_type": "code",
      "source": [
        "#Novo Prompt para os novos exemplos que define o sistema para ser recomendado incluindo ações das funções recomend_movie e recommend_restaurant\n",
        "\n",
        "system_prompt = \"\"\"\n",
        "You run in a loop of Thought, Action, PAUSE, Observation.\n",
        "At the end of the loop you output an Answer.\n",
        "Use Thought to describe your thoughts about the question you have been asked.\n",
        "Use Action to run one of the actions available to you - then return PAUSE.\n",
        "Observation will be the result of running those actions.\n",
        "\n",
        "Your available actions are:\n",
        "\n",
        "recommend_movie:\n",
        "e.g. recommend_movie: Ficção Científica\n",
        "Recomenda um filme com base no gênero.\n",
        "\n",
        "recommend_restaurant:\n",
        "e.g. recommend_restaurant: Italiano, São Paulo\n",
        "Recomenda um restaurante com base na culinária e localização.\n",
        "\n",
        "Example session:\n",
        "\n",
        "Question: Recomende um filme de ficção científica e um restaurante italiano em São Paulo.\n",
        "Thought: Preciso recomendar um filme de ficção científica e um restaurante italiano em São Paulo.\n",
        "Action: recommend_movie: Ficção Científica\n",
        "PAUSE\n",
        "\n",
        "You will be called again with this:\n",
        "\n",
        "Observation: Recomendo o filme 'Interestelar'.\n",
        "\n",
        "Thought: Agora preciso recomendar um restaurante italiano em São Paulo.\n",
        "Action: recommend_restaurant: Italiano, São Paulo\n",
        "PAUSE\n",
        "\n",
        "You will be called again with this:\n",
        "\n",
        "Observation: Recomendo o restaurante 'Famiglia Mancini'.\n",
        "\n",
        "Answer: Recomendo o filme 'Interestelar' e o restaurante 'Famiglia Mancini' em São Paulo.\n",
        "\n",
        "Now it's your turn:\n",
        "\"\"\".strip()"
      ],
      "metadata": {
        "id": "DqM6aKy9rFoP"
      },
      "execution_count": null,
      "outputs": []
    },
    {
      "cell_type": "code",
      "source": [
        "recommendation_agent = Agent(client=client, system=system_prompt)"
      ],
      "metadata": {
        "id": "NGV7fznrrNch"
      },
      "execution_count": null,
      "outputs": []
    },
    {
      "cell_type": "code",
      "source": [
        "# Função para executar o loop do agente\n",
        "\n",
        "def agent_loop(max_iterations=10, query: str = \"\"):\n",
        "    tools = [\"recommend_movie\", \"recommend_restaurant\"]\n",
        "    next_prompt = query\n",
        "    i = 0\n",
        "\n",
        "    while i < max_iterations:\n",
        "        i += 1\n",
        "        result = recommendation_agent(next_prompt)\n",
        "        print(result)\n",
        "\n",
        "        if \"PAUSE\" in result and \"Action\" in result:\n",
        "            action = re.findall(r\"Action: ([a-z_]+): (.+)\", result, re.IGNORECASE)\n",
        "            chosen_tool = action[0][0]\n",
        "            args = action[0][1].split(\", \")\n",
        "\n",
        "            if chosen_tool in tools:\n",
        "                result_tool = eval(f\"{chosen_tool}('{args[0]}', '{args[1]}')\" if chosen_tool == \"recommend_restaurant\" else f\"{chosen_tool}('{args[0]}')\")\n",
        "                next_prompt = f\"Observation: {result_tool}\"\n",
        "            else:\n",
        "                next_prompt = \"Observation: Tool not found\"\n",
        "\n",
        "            print(next_prompt)\n",
        "            continue\n",
        "\n",
        "        if \"Answer\" in result:\n",
        "            break\n"
      ],
      "metadata": {
        "id": "0lxo6YVWrPim"
      },
      "execution_count": null,
      "outputs": []
    },
    {
      "cell_type": "code",
      "source": [
        "agent_loop(query=\"Recomende um filme de ficção científica e um restaurante italiano em São Paulo.\") #Inicia o loop do agente com uma consulta para recomendar um filme e um restaurant"
      ],
      "metadata": {
        "colab": {
          "base_uri": "https://localhost:8080/"
        },
        "id": "U8eAhrVGrSNO",
        "outputId": "5dfc51e1-cb69-4d5a-9c00-a812c162cffb"
      },
      "execution_count": null,
      "outputs": [
        {
          "output_type": "stream",
          "name": "stdout",
          "text": [
            "Thought: Preciso recomendar um filme de ficção científica e um restaurante italiano em São Paulo. Para começar, vou recomendar um filme de ficção científica, pois é um gênero popular e com muitas opções interessantes.\n",
            "\n",
            "Action: recommend_movie: Ficção Científica\n",
            "PAUSE\n",
            "Observation: Interestelar\n",
            "Thought: Agora que tenho o filme de ficção científica recomendado, que é \"Interestelar\", preciso recomendar um restaurante italiano em São Paulo. São Paulo é conhecida por sua diversidade gastronômica e tem muitos restaurantes italianos excelentes.\n",
            "\n",
            "Action: recommend_restaurant: Italiano, São Paulo\n",
            "PAUSE\n",
            "Observation: Famiglia Mancini\n",
            "Thought: Com o filme \"Interestelar\" e o restaurante \"Famiglia Mancini\" recomendados, posso agora fornecer a resposta completa.\n",
            "\n",
            "Answer: Recomendo o filme 'Interestelar' e o restaurante 'Famiglia Mancini' em São Paulo.\n"
          ]
        }
      ]
    },
    {
      "cell_type": "code",
      "source": [],
      "metadata": {
        "id": "bJR1keFhrUhI"
      },
      "execution_count": null,
      "outputs": []
    }
  ]
}